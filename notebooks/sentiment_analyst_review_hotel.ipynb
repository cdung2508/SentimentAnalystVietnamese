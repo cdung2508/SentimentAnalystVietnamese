{
  "nbformat": 4,
  "nbformat_minor": 0,
  "metadata": {
    "colab": {
      "provenance": []
    },
    "kernelspec": {
      "name": "python3",
      "display_name": "Python 3"
    },
    "language_info": {
      "name": "python"
    }
  },
  "cells": [
    {
      "cell_type": "markdown",
      "source": [
        "# For sentiment analyst"
      ],
      "metadata": {
        "id": "5fMuebh5qhXt"
      }
    },
    {
      "cell_type": "code",
      "execution_count": null,
      "metadata": {
        "id": "9dh8-ZQzpD4b"
      },
      "outputs": [],
      "source": [
        "import numpy as np\n",
        "import pandas as pd\n",
        "import tensorflow as tf\n",
        "from collections import Counter"
      ]
    },
    {
      "cell_type": "markdown",
      "source": [
        "## Read and export csv"
      ],
      "metadata": {
        "id": "RGXH8u0Mk6Dk"
      }
    },
    {
      "cell_type": "markdown",
      "source": [
        "### Export new data"
      ],
      "metadata": {
        "id": "DVveBuZ3l28_"
      }
    },
    {
      "cell_type": "code",
      "source": [
        "def read_datasets(filepaths):\n",
        "  return [pd.read_csv(filepath) for filepath in filepaths]"
      ],
      "metadata": {
        "id": "kdxsI12RKbtx"
      },
      "execution_count": null,
      "outputs": []
    },
    {
      "cell_type": "code",
      "source": [
        "filepaths = ''"
      ],
      "metadata": {
        "id": "wPKbiWNVfCjs"
      },
      "execution_count": null,
      "outputs": []
    },
    {
      "cell_type": "code",
      "source": [
        "# all_words = pd.read_csv('/content/all_words.csv', index_col=[0])\n",
        "\n",
        "n_file = 10\n",
        "filepaths = [f'/content/drive/MyDrive/review_vietnamese_dataset_{i}.csv' for i in range(31, n_file + 31 + 1)]\n",
        "# review1, review2, review3, review4 = read_datasets(filepaths)\n",
        "all_files = {}\n",
        "current_file = 0\n",
        "while current_file < n_file:\n",
        "  data = pd.read_csv(filepaths[current_file])\n",
        "  all_files[current_file] = data\n",
        "  current_file += 1"
      ],
      "metadata": {
        "id": "ecuzS00SsU6l"
      },
      "execution_count": null,
      "outputs": []
    },
    {
      "cell_type": "code",
      "source": [
        "# Drop NaN value\n",
        "for df in all_files:\n",
        "  all_files[df] = all_files[df].dropna()"
      ],
      "metadata": {
        "id": "lu5cdKmbglV3"
      },
      "execution_count": null,
      "outputs": []
    },
    {
      "cell_type": "code",
      "source": [
        "dataset = {}\n",
        "labelset = {}\n",
        "for i in range(10):\n",
        "  dataset[i] = all_files[i]['Word']\n",
        "  labelset[i] = all_files[i]['Label']\n"
      ],
      "metadata": {
        "id": "ZCTN6uvbtwFh"
      },
      "execution_count": null,
      "outputs": []
    },
    {
      "cell_type": "code",
      "source": [
        "sum(dataset[1].isnull())"
      ],
      "metadata": {
        "colab": {
          "base_uri": "https://localhost:8080/"
        },
        "id": "5gr3dPt5i-kT",
        "outputId": "3b40eb86-5fa4-414d-e9d8-f7be72934aac"
      },
      "execution_count": null,
      "outputs": [
        {
          "output_type": "execute_result",
          "data": {
            "text/plain": [
              "0"
            ]
          },
          "metadata": {},
          "execution_count": 59
        }
      ]
    },
    {
      "cell_type": "code",
      "source": [
        "list_df = []\n",
        "for df in all_files:\n",
        "  list_df.append(all_files[df])\n",
        "\n",
        "all_reviews_before = pd.read_csv('/content/drive/MyDrive/hotel_reviews_vietnamese.csv', index_col=[0])\n",
        "list_df.append(all_reviews_before)\n",
        "\n",
        "final_data = pd.concat(list_df)\n",
        "final_data.head()"
      ],
      "metadata": {
        "colab": {
          "base_uri": "https://localhost:8080/",
          "height": 206
        },
        "id": "q4FZuw3jitRS",
        "outputId": "0870b07e-ec55-4e8c-9956-891b5a0d0378"
      },
      "execution_count": null,
      "outputs": [
        {
          "output_type": "execute_result",
          "data": {
            "text/plain": [
              "                                                Word  Label\n",
              "0                   Ồn ào đặc biệt ở cấp độ thấp hơn      0\n",
              "1        25 trên trang web bãi đậu xe đáng thất vọng      0\n",
              "2                                              Không      0\n",
              "3  Điều duy nhất là giá đỗ xe cao nhưng bãi đậu x...      0\n",
              "4  Tất cả các phòng không cung cấp chế độ xem thà...      0"
            ],
            "text/html": [
              "\n",
              "  <div id=\"df-df29457c-1fe1-4979-bdc7-71943021e95a\">\n",
              "    <div class=\"colab-df-container\">\n",
              "      <div>\n",
              "<style scoped>\n",
              "    .dataframe tbody tr th:only-of-type {\n",
              "        vertical-align: middle;\n",
              "    }\n",
              "\n",
              "    .dataframe tbody tr th {\n",
              "        vertical-align: top;\n",
              "    }\n",
              "\n",
              "    .dataframe thead th {\n",
              "        text-align: right;\n",
              "    }\n",
              "</style>\n",
              "<table border=\"1\" class=\"dataframe\">\n",
              "  <thead>\n",
              "    <tr style=\"text-align: right;\">\n",
              "      <th></th>\n",
              "      <th>Word</th>\n",
              "      <th>Label</th>\n",
              "    </tr>\n",
              "  </thead>\n",
              "  <tbody>\n",
              "    <tr>\n",
              "      <th>0</th>\n",
              "      <td>Ồn ào đặc biệt ở cấp độ thấp hơn</td>\n",
              "      <td>0</td>\n",
              "    </tr>\n",
              "    <tr>\n",
              "      <th>1</th>\n",
              "      <td>25 trên trang web bãi đậu xe đáng thất vọng</td>\n",
              "      <td>0</td>\n",
              "    </tr>\n",
              "    <tr>\n",
              "      <th>2</th>\n",
              "      <td>Không</td>\n",
              "      <td>0</td>\n",
              "    </tr>\n",
              "    <tr>\n",
              "      <th>3</th>\n",
              "      <td>Điều duy nhất là giá đỗ xe cao nhưng bãi đậu x...</td>\n",
              "      <td>0</td>\n",
              "    </tr>\n",
              "    <tr>\n",
              "      <th>4</th>\n",
              "      <td>Tất cả các phòng không cung cấp chế độ xem thà...</td>\n",
              "      <td>0</td>\n",
              "    </tr>\n",
              "  </tbody>\n",
              "</table>\n",
              "</div>\n",
              "      <button class=\"colab-df-convert\" onclick=\"convertToInteractive('df-df29457c-1fe1-4979-bdc7-71943021e95a')\"\n",
              "              title=\"Convert this dataframe to an interactive table.\"\n",
              "              style=\"display:none;\">\n",
              "        \n",
              "  <svg xmlns=\"http://www.w3.org/2000/svg\" height=\"24px\"viewBox=\"0 0 24 24\"\n",
              "       width=\"24px\">\n",
              "    <path d=\"M0 0h24v24H0V0z\" fill=\"none\"/>\n",
              "    <path d=\"M18.56 5.44l.94 2.06.94-2.06 2.06-.94-2.06-.94-.94-2.06-.94 2.06-2.06.94zm-11 1L8.5 8.5l.94-2.06 2.06-.94-2.06-.94L8.5 2.5l-.94 2.06-2.06.94zm10 10l.94 2.06.94-2.06 2.06-.94-2.06-.94-.94-2.06-.94 2.06-2.06.94z\"/><path d=\"M17.41 7.96l-1.37-1.37c-.4-.4-.92-.59-1.43-.59-.52 0-1.04.2-1.43.59L10.3 9.45l-7.72 7.72c-.78.78-.78 2.05 0 2.83L4 21.41c.39.39.9.59 1.41.59.51 0 1.02-.2 1.41-.59l7.78-7.78 2.81-2.81c.8-.78.8-2.07 0-2.86zM5.41 20L4 18.59l7.72-7.72 1.47 1.35L5.41 20z\"/>\n",
              "  </svg>\n",
              "      </button>\n",
              "      \n",
              "  <style>\n",
              "    .colab-df-container {\n",
              "      display:flex;\n",
              "      flex-wrap:wrap;\n",
              "      gap: 12px;\n",
              "    }\n",
              "\n",
              "    .colab-df-convert {\n",
              "      background-color: #E8F0FE;\n",
              "      border: none;\n",
              "      border-radius: 50%;\n",
              "      cursor: pointer;\n",
              "      display: none;\n",
              "      fill: #1967D2;\n",
              "      height: 32px;\n",
              "      padding: 0 0 0 0;\n",
              "      width: 32px;\n",
              "    }\n",
              "\n",
              "    .colab-df-convert:hover {\n",
              "      background-color: #E2EBFA;\n",
              "      box-shadow: 0px 1px 2px rgba(60, 64, 67, 0.3), 0px 1px 3px 1px rgba(60, 64, 67, 0.15);\n",
              "      fill: #174EA6;\n",
              "    }\n",
              "\n",
              "    [theme=dark] .colab-df-convert {\n",
              "      background-color: #3B4455;\n",
              "      fill: #D2E3FC;\n",
              "    }\n",
              "\n",
              "    [theme=dark] .colab-df-convert:hover {\n",
              "      background-color: #434B5C;\n",
              "      box-shadow: 0px 1px 3px 1px rgba(0, 0, 0, 0.15);\n",
              "      filter: drop-shadow(0px 1px 2px rgba(0, 0, 0, 0.3));\n",
              "      fill: #FFFFFF;\n",
              "    }\n",
              "  </style>\n",
              "\n",
              "      <script>\n",
              "        const buttonEl =\n",
              "          document.querySelector('#df-df29457c-1fe1-4979-bdc7-71943021e95a button.colab-df-convert');\n",
              "        buttonEl.style.display =\n",
              "          google.colab.kernel.accessAllowed ? 'block' : 'none';\n",
              "\n",
              "        async function convertToInteractive(key) {\n",
              "          const element = document.querySelector('#df-df29457c-1fe1-4979-bdc7-71943021e95a');\n",
              "          const dataTable =\n",
              "            await google.colab.kernel.invokeFunction('convertToInteractive',\n",
              "                                                     [key], {});\n",
              "          if (!dataTable) return;\n",
              "\n",
              "          const docLinkHtml = 'Like what you see? Visit the ' +\n",
              "            '<a target=\"_blank\" href=https://colab.research.google.com/notebooks/data_table.ipynb>data table notebook</a>'\n",
              "            + ' to learn more about interactive tables.';\n",
              "          element.innerHTML = '';\n",
              "          dataTable['output_type'] = 'display_data';\n",
              "          await google.colab.output.renderOutput(dataTable, element);\n",
              "          const docLink = document.createElement('div');\n",
              "          docLink.innerHTML = docLinkHtml;\n",
              "          element.appendChild(docLink);\n",
              "        }\n",
              "      </script>\n",
              "    </div>\n",
              "  </div>\n",
              "  "
            ]
          },
          "metadata": {},
          "execution_count": 60
        }
      ]
    },
    {
      "cell_type": "code",
      "source": [
        "final_data.shape"
      ],
      "metadata": {
        "colab": {
          "base_uri": "https://localhost:8080/"
        },
        "id": "Yd6LsU-ckgwn",
        "outputId": "eee385d4-3e0e-4cdd-9a75-67809e9d77f4"
      },
      "execution_count": null,
      "outputs": [
        {
          "output_type": "execute_result",
          "data": {
            "text/plain": [
              "(77907, 2)"
            ]
          },
          "metadata": {},
          "execution_count": 61
        }
      ]
    },
    {
      "cell_type": "code",
      "source": [
        "final_data = final_data.sample(frac=1)\n",
        "final_data.head(20)"
      ],
      "metadata": {
        "colab": {
          "base_uri": "https://localhost:8080/",
          "height": 677
        },
        "id": "onBgte7Flayb",
        "outputId": "2259ff7d-c219-4081-9939-ecec60d15f19"
      },
      "execution_count": null,
      "outputs": [
        {
          "output_type": "execute_result",
          "data": {
            "text/plain": [
              "                                                   Word  Label\n",
              "1453  Vị trí tuyệt vời thân thiện với nhân viên hữu ...      1\n",
              "822                     Không có gì là tất cả tuyệt vời      0\n",
              "66                    Giá bữa sáng và quán bar đắt tiền      0\n",
              "247                                 Giá cả tôi nghĩ đắt      0\n",
              "714   Tín hiệu của TV không tốt và các pixel của màn...      0\n",
              "838   Quán rượu đã vô cùng bận rộn vào cả các buổi t...      0\n",
              "12    Không nhận được phòng mà chúng tôi đã trả tiền...      0\n",
              "1363                                          Nhân Viên      1\n",
              "121            Phòng ngủ nhỏ cho những gì được trả tiền      0\n",
              "1231  Những điều hữu ích trong phòng bàn ủi sắt tron...      1\n",
              "400      Bữa sáng nên được bao gồm trong giá tiêu chuẩn      0\n",
              "1364  Nơi an toàn để lại hành lý khi đến trước phòng...      1\n",
              "1107                                          Trang trí      1\n",
              "875   Về cơ bản, việc tân trang chính trên trang web...      0\n",
              "1696  Việc nâng cấp lên một căn phòng với ban công r...      1\n",
              "105   WiFi không miễn phí chỉ hai giờ mỗi ngày ăn sá...      0\n",
              "612   Khoảng thời gian chúng tôi phải chờ kiểm tra c...      0\n",
              "955   Gói sữa đã lỗi thời và bị ảnh hưởng khi pha tr...      0\n",
              "1263  Vị trí và tiêu chuẩn tổng thể của khách sạn và...      1\n",
              "1840  Những nét đặc biệt Chúng tôi đã được nâng cấp ...      1"
            ],
            "text/html": [
              "\n",
              "  <div id=\"df-55e2d620-af32-46b8-8123-883bca542881\">\n",
              "    <div class=\"colab-df-container\">\n",
              "      <div>\n",
              "<style scoped>\n",
              "    .dataframe tbody tr th:only-of-type {\n",
              "        vertical-align: middle;\n",
              "    }\n",
              "\n",
              "    .dataframe tbody tr th {\n",
              "        vertical-align: top;\n",
              "    }\n",
              "\n",
              "    .dataframe thead th {\n",
              "        text-align: right;\n",
              "    }\n",
              "</style>\n",
              "<table border=\"1\" class=\"dataframe\">\n",
              "  <thead>\n",
              "    <tr style=\"text-align: right;\">\n",
              "      <th></th>\n",
              "      <th>Word</th>\n",
              "      <th>Label</th>\n",
              "    </tr>\n",
              "  </thead>\n",
              "  <tbody>\n",
              "    <tr>\n",
              "      <th>1453</th>\n",
              "      <td>Vị trí tuyệt vời thân thiện với nhân viên hữu ...</td>\n",
              "      <td>1</td>\n",
              "    </tr>\n",
              "    <tr>\n",
              "      <th>822</th>\n",
              "      <td>Không có gì là tất cả tuyệt vời</td>\n",
              "      <td>0</td>\n",
              "    </tr>\n",
              "    <tr>\n",
              "      <th>66</th>\n",
              "      <td>Giá bữa sáng và quán bar đắt tiền</td>\n",
              "      <td>0</td>\n",
              "    </tr>\n",
              "    <tr>\n",
              "      <th>247</th>\n",
              "      <td>Giá cả tôi nghĩ đắt</td>\n",
              "      <td>0</td>\n",
              "    </tr>\n",
              "    <tr>\n",
              "      <th>714</th>\n",
              "      <td>Tín hiệu của TV không tốt và các pixel của màn...</td>\n",
              "      <td>0</td>\n",
              "    </tr>\n",
              "    <tr>\n",
              "      <th>838</th>\n",
              "      <td>Quán rượu đã vô cùng bận rộn vào cả các buổi t...</td>\n",
              "      <td>0</td>\n",
              "    </tr>\n",
              "    <tr>\n",
              "      <th>12</th>\n",
              "      <td>Không nhận được phòng mà chúng tôi đã trả tiền...</td>\n",
              "      <td>0</td>\n",
              "    </tr>\n",
              "    <tr>\n",
              "      <th>1363</th>\n",
              "      <td>Nhân Viên</td>\n",
              "      <td>1</td>\n",
              "    </tr>\n",
              "    <tr>\n",
              "      <th>121</th>\n",
              "      <td>Phòng ngủ nhỏ cho những gì được trả tiền</td>\n",
              "      <td>0</td>\n",
              "    </tr>\n",
              "    <tr>\n",
              "      <th>1231</th>\n",
              "      <td>Những điều hữu ích trong phòng bàn ủi sắt tron...</td>\n",
              "      <td>1</td>\n",
              "    </tr>\n",
              "    <tr>\n",
              "      <th>400</th>\n",
              "      <td>Bữa sáng nên được bao gồm trong giá tiêu chuẩn</td>\n",
              "      <td>0</td>\n",
              "    </tr>\n",
              "    <tr>\n",
              "      <th>1364</th>\n",
              "      <td>Nơi an toàn để lại hành lý khi đến trước phòng...</td>\n",
              "      <td>1</td>\n",
              "    </tr>\n",
              "    <tr>\n",
              "      <th>1107</th>\n",
              "      <td>Trang trí</td>\n",
              "      <td>1</td>\n",
              "    </tr>\n",
              "    <tr>\n",
              "      <th>875</th>\n",
              "      <td>Về cơ bản, việc tân trang chính trên trang web...</td>\n",
              "      <td>0</td>\n",
              "    </tr>\n",
              "    <tr>\n",
              "      <th>1696</th>\n",
              "      <td>Việc nâng cấp lên một căn phòng với ban công r...</td>\n",
              "      <td>1</td>\n",
              "    </tr>\n",
              "    <tr>\n",
              "      <th>105</th>\n",
              "      <td>WiFi không miễn phí chỉ hai giờ mỗi ngày ăn sá...</td>\n",
              "      <td>0</td>\n",
              "    </tr>\n",
              "    <tr>\n",
              "      <th>612</th>\n",
              "      <td>Khoảng thời gian chúng tôi phải chờ kiểm tra c...</td>\n",
              "      <td>0</td>\n",
              "    </tr>\n",
              "    <tr>\n",
              "      <th>955</th>\n",
              "      <td>Gói sữa đã lỗi thời và bị ảnh hưởng khi pha tr...</td>\n",
              "      <td>0</td>\n",
              "    </tr>\n",
              "    <tr>\n",
              "      <th>1263</th>\n",
              "      <td>Vị trí và tiêu chuẩn tổng thể của khách sạn và...</td>\n",
              "      <td>1</td>\n",
              "    </tr>\n",
              "    <tr>\n",
              "      <th>1840</th>\n",
              "      <td>Những nét đặc biệt Chúng tôi đã được nâng cấp ...</td>\n",
              "      <td>1</td>\n",
              "    </tr>\n",
              "  </tbody>\n",
              "</table>\n",
              "</div>\n",
              "      <button class=\"colab-df-convert\" onclick=\"convertToInteractive('df-55e2d620-af32-46b8-8123-883bca542881')\"\n",
              "              title=\"Convert this dataframe to an interactive table.\"\n",
              "              style=\"display:none;\">\n",
              "        \n",
              "  <svg xmlns=\"http://www.w3.org/2000/svg\" height=\"24px\"viewBox=\"0 0 24 24\"\n",
              "       width=\"24px\">\n",
              "    <path d=\"M0 0h24v24H0V0z\" fill=\"none\"/>\n",
              "    <path d=\"M18.56 5.44l.94 2.06.94-2.06 2.06-.94-2.06-.94-.94-2.06-.94 2.06-2.06.94zm-11 1L8.5 8.5l.94-2.06 2.06-.94-2.06-.94L8.5 2.5l-.94 2.06-2.06.94zm10 10l.94 2.06.94-2.06 2.06-.94-2.06-.94-.94-2.06-.94 2.06-2.06.94z\"/><path d=\"M17.41 7.96l-1.37-1.37c-.4-.4-.92-.59-1.43-.59-.52 0-1.04.2-1.43.59L10.3 9.45l-7.72 7.72c-.78.78-.78 2.05 0 2.83L4 21.41c.39.39.9.59 1.41.59.51 0 1.02-.2 1.41-.59l7.78-7.78 2.81-2.81c.8-.78.8-2.07 0-2.86zM5.41 20L4 18.59l7.72-7.72 1.47 1.35L5.41 20z\"/>\n",
              "  </svg>\n",
              "      </button>\n",
              "      \n",
              "  <style>\n",
              "    .colab-df-container {\n",
              "      display:flex;\n",
              "      flex-wrap:wrap;\n",
              "      gap: 12px;\n",
              "    }\n",
              "\n",
              "    .colab-df-convert {\n",
              "      background-color: #E8F0FE;\n",
              "      border: none;\n",
              "      border-radius: 50%;\n",
              "      cursor: pointer;\n",
              "      display: none;\n",
              "      fill: #1967D2;\n",
              "      height: 32px;\n",
              "      padding: 0 0 0 0;\n",
              "      width: 32px;\n",
              "    }\n",
              "\n",
              "    .colab-df-convert:hover {\n",
              "      background-color: #E2EBFA;\n",
              "      box-shadow: 0px 1px 2px rgba(60, 64, 67, 0.3), 0px 1px 3px 1px rgba(60, 64, 67, 0.15);\n",
              "      fill: #174EA6;\n",
              "    }\n",
              "\n",
              "    [theme=dark] .colab-df-convert {\n",
              "      background-color: #3B4455;\n",
              "      fill: #D2E3FC;\n",
              "    }\n",
              "\n",
              "    [theme=dark] .colab-df-convert:hover {\n",
              "      background-color: #434B5C;\n",
              "      box-shadow: 0px 1px 3px 1px rgba(0, 0, 0, 0.15);\n",
              "      filter: drop-shadow(0px 1px 2px rgba(0, 0, 0, 0.3));\n",
              "      fill: #FFFFFF;\n",
              "    }\n",
              "  </style>\n",
              "\n",
              "      <script>\n",
              "        const buttonEl =\n",
              "          document.querySelector('#df-55e2d620-af32-46b8-8123-883bca542881 button.colab-df-convert');\n",
              "        buttonEl.style.display =\n",
              "          google.colab.kernel.accessAllowed ? 'block' : 'none';\n",
              "\n",
              "        async function convertToInteractive(key) {\n",
              "          const element = document.querySelector('#df-55e2d620-af32-46b8-8123-883bca542881');\n",
              "          const dataTable =\n",
              "            await google.colab.kernel.invokeFunction('convertToInteractive',\n",
              "                                                     [key], {});\n",
              "          if (!dataTable) return;\n",
              "\n",
              "          const docLinkHtml = 'Like what you see? Visit the ' +\n",
              "            '<a target=\"_blank\" href=https://colab.research.google.com/notebooks/data_table.ipynb>data table notebook</a>'\n",
              "            + ' to learn more about interactive tables.';\n",
              "          element.innerHTML = '';\n",
              "          dataTable['output_type'] = 'display_data';\n",
              "          await google.colab.output.renderOutput(dataTable, element);\n",
              "          const docLink = document.createElement('div');\n",
              "          docLink.innerHTML = docLinkHtml;\n",
              "          element.appendChild(docLink);\n",
              "        }\n",
              "      </script>\n",
              "    </div>\n",
              "  </div>\n",
              "  "
            ]
          },
          "metadata": {},
          "execution_count": 62
        }
      ]
    },
    {
      "cell_type": "code",
      "source": [
        "final_data.to_csv('all_reviews_vietnamese_dataset.csv')"
      ],
      "metadata": {
        "id": "Mspd4Vf6kkz7"
      },
      "execution_count": null,
      "outputs": []
    },
    {
      "cell_type": "markdown",
      "source": [
        "## Utilities"
      ],
      "metadata": {
        "id": "Ia3OeTXCFysu"
      }
    },
    {
      "cell_type": "code",
      "source": [
        "from tensorflow.train import BytesList, FloatList, Int64List\n",
        "from tensorflow.train import Feature, Features, Example\n",
        "\n",
        "\"\"\"\n",
        "  THIS EXAMPLE FOR BELOW 2 FUNCTION\n",
        "  text = convert_string_to_byte('Phòng này nhỏ quá')\n",
        "\n",
        "  for word in text.numpy().split():\n",
        "    print(convert_byte_to_string(word), end=' ')\n",
        "\n",
        "\"\"\"\n",
        "def convert_byte_to_string(text):\n",
        "  # Loop qua từng từ rồi convert\n",
        "  return tf.compat.as_str_any(text)\n",
        "\n",
        "def convert_string_to_byte(text):\n",
        "  # Convert nguyên 1 câu\n",
        "  return tf.constant(bytes(text, 'utf-8'))\n",
        "\n",
        "def create_example(review, label):\n",
        "  review = convert_string_to_byte(review)\n",
        "  review_data = tf.io.serialize_tensor(review) # Parse string to byte string\n",
        "  label = tf.convert_to_tensor(label)\n",
        "  return Example(\n",
        "      features=Features(\n",
        "          feature={\n",
        "              'review': Feature(bytes_list=BytesList(value=[review_data.numpy()])),\n",
        "              'label': Feature(int64_list=Int64List(value=[label]))\n",
        "          }\n",
        "      )\n",
        "  )\n",
        "\n",
        "\n",
        "def preprocess(tfrecord):\n",
        "  feature_descriptions = {\n",
        "      'review': tf.io.FixedLenFeature([], tf.string, default_value=''),\n",
        "      'label': tf.io.FixedLenFeature([], tf.int64, default_value=-1)\n",
        "  }\n",
        "  example = tf.io.parse_single_example(tfrecord, feature_descriptions)\n",
        "  review = tf.io.parse_tensor(example['review'], out_type=tf.string) # Parse \n",
        "  review = tf.cast(review, dtype=tf.string)\n",
        "  label = tf.cast(example['label'], dtype=tf.int64)\n",
        "  return review, example['label']\n",
        "\n",
        "\n",
        "def read_tfrecord(filepaths, shuffle_buffer_size=None, n_parse_threads=5, n_read_threads=5, cache=True):\n",
        "  dataset = tf.data.TFRecordDataset(filepaths, num_parallel_reads=n_read_threads)\n",
        "  if cache:\n",
        "    dataset = dataset.cache()\n",
        "  if shuffle_buffer_size:\n",
        "    dataset = dataset.shuffle(shuffle_buffer_size)\n",
        "  dataset = dataset.map(preprocess, num_parallel_calls=n_parse_threads)\n",
        "  # dataset = dataset.batch(batch_size)\n",
        "  # return dataset.prefetch(1)\n",
        "  return dataset\n",
        "\n",
        "\n",
        "def save_tfrecord_file(data, label, filename):\n",
        "  with tf.io.TFRecordWriter(filename + '.tfrecord') as f:\n",
        "    for review, label in zip(data, label):\n",
        "      example = create_example(review, label)\n",
        "      example_string = example.SerializeToString()\n",
        "      f.write(example_string)\n"
      ],
      "metadata": {
        "id": "IHM5Ax3g6fHD"
      },
      "execution_count": null,
      "outputs": []
    },
    {
      "cell_type": "markdown",
      "source": [
        "## Test code"
      ],
      "metadata": {
        "id": "QbenSIgDF62y"
      }
    },
    {
      "cell_type": "markdown",
      "source": [
        "### Serialize"
      ],
      "metadata": {
        "id": "j6VsYb8hJeuR"
      }
    },
    {
      "cell_type": "code",
      "source": [
        "# Test\n",
        "example = create_example('Hi Vietnam', 1)\n",
        "example"
      ],
      "metadata": {
        "id": "-Tf7gl3iuBAk",
        "colab": {
          "base_uri": "https://localhost:8080/"
        },
        "outputId": "6d03463f-a85e-4be9-c13b-d504b331cc60"
      },
      "execution_count": null,
      "outputs": [
        {
          "output_type": "execute_result",
          "data": {
            "text/plain": [
              "features {\n",
              "  feature {\n",
              "    key: \"label\"\n",
              "    value {\n",
              "      int64_list {\n",
              "        value: 1\n",
              "      }\n",
              "    }\n",
              "  }\n",
              "  feature {\n",
              "    key: \"review\"\n",
              "    value {\n",
              "      bytes_list {\n",
              "        value: \"\\010\\007\\022\\000B\\nHi Vietnam\"\n",
              "      }\n",
              "    }\n",
              "  }\n",
              "}"
            ]
          },
          "metadata": {},
          "execution_count": 3
        }
      ]
    },
    {
      "cell_type": "code",
      "source": [
        "# Test\n",
        "example.SerializeToString() # Parse Serialize(Example) to byte string"
      ],
      "metadata": {
        "id": "kBEicDek4j_p",
        "colab": {
          "base_uri": "https://localhost:8080/"
        },
        "outputId": "f6a81f0a-15dd-410e-ed1a-70c8d0dc9250"
      },
      "execution_count": null,
      "outputs": [
        {
          "output_type": "execute_result",
          "data": {
            "text/plain": [
              "b'\\n0\\n\\x1e\\n\\x06review\\x12\\x14\\n\\x12\\n\\x10\\x08\\x07\\x12\\x00B\\nHi Vietnam\\n\\x0e\\n\\x05label\\x12\\x05\\x1a\\x03\\n\\x01\\x01'"
            ]
          },
          "metadata": {},
          "execution_count": 4
        }
      ]
    },
    {
      "cell_type": "markdown",
      "source": [
        "### String and byte string"
      ],
      "metadata": {
        "id": "OE_jHmnQJicM"
      }
    },
    {
      "cell_type": "code",
      "source": [
        "a = tf.constant('Phòng nhỏ')\n",
        "a"
      ],
      "metadata": {
        "id": "z-QA06z0H8li",
        "colab": {
          "base_uri": "https://localhost:8080/"
        },
        "outputId": "2b9c7ff0-9baa-4336-a3f5-2924cc73cfba"
      },
      "execution_count": null,
      "outputs": [
        {
          "output_type": "execute_result",
          "data": {
            "text/plain": [
              "<tf.Tensor: shape=(), dtype=string, numpy=b'Ph\\xc3\\xb2ng nh\\xe1\\xbb\\x8f'>"
            ]
          },
          "metadata": {},
          "execution_count": 5
        }
      ]
    },
    {
      "cell_type": "code",
      "source": [
        "a = tf.io.serialize_tensor(a)\n",
        "a"
      ],
      "metadata": {
        "id": "p4zH2-lqIMFP",
        "colab": {
          "base_uri": "https://localhost:8080/"
        },
        "outputId": "f6bc11ee-1baa-4505-da5f-b31fb92d96d1"
      },
      "execution_count": null,
      "outputs": [
        {
          "output_type": "execute_result",
          "data": {
            "text/plain": [
              "<tf.Tensor: shape=(), dtype=string, numpy=b'\\x08\\x07\\x12\\x00B\\x0cPh\\xc3\\xb2ng nh\\xe1\\xbb\\x8f'>"
            ]
          },
          "metadata": {},
          "execution_count": 6
        }
      ]
    },
    {
      "cell_type": "code",
      "source": [
        "a = tf.io.parse_tensor(a, out_type=tf.string)\n",
        "a"
      ],
      "metadata": {
        "id": "6UCYQ-1IIaZJ",
        "colab": {
          "base_uri": "https://localhost:8080/"
        },
        "outputId": "cf845a42-73b8-4fbb-c095-a075e163111d"
      },
      "execution_count": null,
      "outputs": [
        {
          "output_type": "execute_result",
          "data": {
            "text/plain": [
              "<tf.Tensor: shape=(), dtype=string, numpy=b'Ph\\xc3\\xb2ng nh\\xe1\\xbb\\x8f'>"
            ]
          },
          "metadata": {},
          "execution_count": 7
        }
      ]
    },
    {
      "cell_type": "code",
      "source": [
        "a.numpy()"
      ],
      "metadata": {
        "id": "D3I6zfjEIqrS",
        "colab": {
          "base_uri": "https://localhost:8080/"
        },
        "outputId": "da30752a-8f36-4cce-beea-f9842daed2d2"
      },
      "execution_count": null,
      "outputs": [
        {
          "output_type": "execute_result",
          "data": {
            "text/plain": [
              "b'Ph\\xc3\\xb2ng nh\\xe1\\xbb\\x8f'"
            ]
          },
          "metadata": {},
          "execution_count": 8
        }
      ]
    },
    {
      "cell_type": "code",
      "source": [
        "for char in a.numpy().split():\n",
        "  print(tf.compat.as_str_any(char))"
      ],
      "metadata": {
        "colab": {
          "base_uri": "https://localhost:8080/"
        },
        "id": "T4OVNJMSI-Jr",
        "outputId": "5d4a81b5-7a39-43cc-adaf-7c3a8c884c22"
      },
      "execution_count": null,
      "outputs": [
        {
          "output_type": "stream",
          "name": "stdout",
          "text": [
            "Phòng\n",
            "nhỏ\n"
          ]
        }
      ]
    },
    {
      "cell_type": "markdown",
      "source": [
        "## Split data"
      ],
      "metadata": {
        "id": "wumNVEvxF_XY"
      }
    },
    {
      "cell_type": "code",
      "source": [
        "dataset = pd.read_csv('/content/all_reviews_vietnamese_dataset.csv', index_col=[0])\n",
        "\n",
        "all_reviews = dataset['Word'].values\n",
        "all_labels = dataset['Label'].values\n",
        "\n",
        "train_set = all_reviews[:50000]\n",
        "valid_set = all_reviews[50000:60000]\n",
        "test_set = all_reviews[60000:]\n",
        "\n",
        "label_train = all_labels[:50000]\n",
        "label_valid = all_labels[50000:60000]\n",
        "label_test = all_labels[60000:]\n",
        "\n",
        "train_set.shape, valid_set.shape, test_set.shape"
      ],
      "metadata": {
        "id": "2YlUsddyB0BV",
        "colab": {
          "base_uri": "https://localhost:8080/"
        },
        "outputId": "5e081711-d96a-46f0-bc52-685865128973"
      },
      "execution_count": null,
      "outputs": [
        {
          "output_type": "execute_result",
          "data": {
            "text/plain": [
              "((50000,), (10000,), (17907,))"
            ]
          },
          "metadata": {},
          "execution_count": 3
        }
      ]
    },
    {
      "cell_type": "code",
      "source": [
        "train_set[1500], label_train[1500]"
      ],
      "metadata": {
        "colab": {
          "base_uri": "https://localhost:8080/"
        },
        "id": "IOA2144ZPLfB",
        "outputId": "5dff1726-cb09-459a-9bb9-452bf405c063"
      },
      "execution_count": null,
      "outputs": [
        {
          "output_type": "execute_result",
          "data": {
            "text/plain": [
              "('Không khí không hoạt động tốt và cửa sổ không mở rộng nên căn phòng hơi ấm làm việc bình thường',\n",
              " 0)"
            ]
          },
          "metadata": {},
          "execution_count": 4
        }
      ]
    },
    {
      "cell_type": "code",
      "source": [
        "train_set[:5]"
      ],
      "metadata": {
        "id": "zLOXxM775bti",
        "colab": {
          "base_uri": "https://localhost:8080/"
        },
        "outputId": "257fbfd9-23c2-4a36-f53b-d28011a85349"
      },
      "execution_count": null,
      "outputs": [
        {
          "output_type": "execute_result",
          "data": {
            "text/plain": [
              "array(['Vị trí tuyệt vời thân thiện với nhân viên hữu ích được giữ tốt cơ sở ăn sáng tuyệt vời trong nhà hàng',\n",
              "       'Không có gì là tất cả tuyệt vời',\n",
              "       'Giá bữa sáng và quán bar đắt tiền', 'Giá cả tôi nghĩ đắt',\n",
              "       'Tín hiệu của TV không tốt và các pixel của màn hình thấp'],\n",
              "      dtype=object)"
            ]
          },
          "metadata": {},
          "execution_count": 5
        }
      ]
    },
    {
      "cell_type": "markdown",
      "source": [
        "## Write to tfrecord"
      ],
      "metadata": {
        "id": "mT_JOr4wErBS"
      }
    },
    {
      "cell_type": "code",
      "source": [
        "save_tfrecord_file(train_set, label_train, 'trainset_reviews')\n",
        "save_tfrecord_file(valid_set, label_valid, 'validset_reviews')\n",
        "save_tfrecord_file(test_set, label_test, 'testset_reviews')"
      ],
      "metadata": {
        "id": "V-klH0f9FF-T"
      },
      "execution_count": null,
      "outputs": []
    },
    {
      "cell_type": "markdown",
      "source": [
        "## Loading and Parsing Examples"
      ],
      "metadata": {
        "id": "Vppe4i50FvCJ"
      }
    },
    {
      "cell_type": "code",
      "source": [
        "train_set = read_tfrecord('/content/trainset_reviews.tfrecord', shuffle_buffer_size=50000)\n",
        "valid_set = read_tfrecord('/content/validset_reviews.tfrecord')\n",
        "test_set = read_tfrecord('/content/testset_reviews.tfrecord')"
      ],
      "metadata": {
        "id": "Vx5AwHW4FKZ-"
      },
      "execution_count": null,
      "outputs": []
    },
    {
      "cell_type": "code",
      "source": [
        "for word in b'Ph\\xc3\\xb2ng tuy\\xe1\\xbb\\x87t v\\xe1\\xbb\\x9di nh\\xc3\\xa2n vi\\xc3\\xaan th\\xc3\\xa2n thi\\xe1\\xbb\\x87n h\\xe1\\xbb\\xafu \\xc3\\xadch c\\xc3\\xb3 th\\xe1\\xbb\\x83 l\\xe1\\xbb\\x97i'.split():\n",
        "  print(tf.compat.as_str_any(word), end=' ')"
      ],
      "metadata": {
        "colab": {
          "base_uri": "https://localhost:8080/"
        },
        "id": "vhrvWoehJMvO",
        "outputId": "a86b4857-903e-4611-9fc7-f988ab7f3e62"
      },
      "execution_count": null,
      "outputs": [
        {
          "output_type": "stream",
          "name": "stdout",
          "text": [
            "Phòng tuyệt vời nhân viên thân thiện hữu ích có thể lỗi "
          ]
        }
      ]
    },
    {
      "cell_type": "markdown",
      "metadata": {
        "id": "n5XZN2JfY2sL"
      },
      "source": [
        "## Update vocabulary"
      ]
    },
    {
      "cell_type": "code",
      "execution_count": null,
      "metadata": {
        "id": "T3N6DmDfPpwy"
      },
      "outputs": [],
      "source": [
        "def preprocess_text(X_batch, y_batch=None, type_data=None):\n",
        "  if y_batch is not None:\n",
        "    X_batch = tf.strings.substr(X_batch, 0, 300)\n",
        "    X_batch = tf.strings.lower(X_batch, encoding='utf-8')\n",
        "    X_batch = tf.strings.split(X_batch)\n",
        "    X_batch = tf.strings.regex_replace(X_batch, rb\"\"\"\n",
        "\"\"\", b\" \")\n",
        "    X_batch = tf.strings.regex_replace(X_batch, b\" \", b'')\n",
        "    X_batch = tf.strings.regex_replace(X_batch, b'[<,.>/?;:\\'\\\"[{}]|\\\\!@#$%^&*()-_=+~`]', b'')\n",
        "    X_batch = tf.strings.regex_replace(X_batch, b'[0123456789]', b'')\n",
        "    return X_batch.to_tensor(default_value=b''), y_batch # Convert raggedtensor to dense tensor\n",
        "  if type_data == 'valid' or type_data == 'test':\n",
        "    # X_batch = tf.strings.substr(X_batch, 0, 100)\n",
        "    X_batch = tf.strings.split(X_batch)\n",
        "    X_batch = tf.strings.regex_replace(X_batch, rb\"\"\"\n",
        "\"\"\", b\" \")\n",
        "    return X_batch.to_tensor(default_value=b'')"
      ]
    },
    {
      "cell_type": "code",
      "execution_count": null,
      "metadata": {
        "id": "N3WrHfD6W95p"
      },
      "outputs": [],
      "source": [
        "vocabulary = Counter()\n",
        "\n",
        "for X_batch, y_batch in train_set.batch(32).map(preprocess_text):\n",
        "  for review in X_batch:\n",
        "    vocabulary.update(list(review.numpy()))"
      ]
    },
    {
      "cell_type": "code",
      "source": [
        "vocabulary.most_common()[:10]"
      ],
      "metadata": {
        "id": "vtrTXICbr_nU",
        "colab": {
          "base_uri": "https://localhost:8080/"
        },
        "outputId": "c9822c56-adfe-41c4-ba37-3b5ce6a723f3"
      },
      "execution_count": null,
      "outputs": [
        {
          "output_type": "execute_result",
          "data": {
            "text/plain": [
              "[(b'', 1656800),\n",
              " (b'v\\xc3\\xa0', 29414),\n",
              " (b'ph\\xc3\\xb2ng', 26126),\n",
              " (b't\\xc3\\xb4i', 22661),\n",
              " (b'kh\\xc3\\xb4ng', 22078),\n",
              " (b'r\\xe1\\xba\\xa5t', 19018),\n",
              " (b'm\\xe1\\xbb\\x99t', 18292),\n",
              " (b'c\\xc3\\xb3', 17653),\n",
              " (b'l\\xc3\\xa0', 13461),\n",
              " (b'vi\\xc3\\xaan', 12938)]"
            ]
          },
          "metadata": {},
          "execution_count": 131
        }
      ]
    },
    {
      "cell_type": "code",
      "execution_count": null,
      "metadata": {
        "id": "v3NchL_fMfhv",
        "colab": {
          "base_uri": "https://localhost:8080/",
          "height": 36
        },
        "outputId": "b0a4007e-9927-4046-b11f-295947471aab"
      },
      "outputs": [
        {
          "output_type": "execute_result",
          "data": {
            "text/plain": [
              "'mẹ'"
            ],
            "application/vnd.google.colaboratory.intrinsic+json": {
              "type": "string"
            }
          },
          "metadata": {},
          "execution_count": 12
        }
      ],
      "source": [
        "convert_byte_to_string(b'm\\xe1\\xba\\xb9')"
      ]
    },
    {
      "cell_type": "code",
      "execution_count": null,
      "metadata": {
        "id": "Lk_eNF1vM2BI",
        "colab": {
          "base_uri": "https://localhost:8080/"
        },
        "outputId": "87b78160-10ec-4ebd-8113-82fefcdd798f"
      },
      "outputs": [
        {
          "output_type": "execute_result",
          "data": {
            "text/plain": [
              "6483"
            ]
          },
          "metadata": {},
          "execution_count": 13
        }
      ],
      "source": [
        "len(vocabulary)"
      ]
    },
    {
      "cell_type": "code",
      "source": [
        "list_words_after_convert = []\n",
        "list_errors_after_convert = []\n",
        "for word, count in vocabulary.most_common()[:5000]:\n",
        "  try:\n",
        "    list_words_after_convert.append(convert_byte_to_string(word))\n",
        "  except:\n",
        "    list_errors_after_convert.append(word)\n",
        "    continue"
      ],
      "metadata": {
        "id": "-i6TBrpz1mkP"
      },
      "execution_count": null,
      "outputs": []
    },
    {
      "cell_type": "code",
      "source": [
        "for word in list_words_after_convert:\n",
        "  print(word)"
      ],
      "metadata": {
        "id": "6zg4iiqw3flc"
      },
      "execution_count": null,
      "outputs": []
    },
    {
      "cell_type": "code",
      "source": [
        "# Convert if error\n",
        "for word in list_errors_after_convert:\n",
        "  print(str(word, errors='ignore'), end=' ')"
      ],
      "metadata": {
        "id": "B6IqL-Zo4LaD"
      },
      "execution_count": null,
      "outputs": []
    },
    {
      "cell_type": "code",
      "execution_count": null,
      "metadata": {
        "id": "ZI8DEvdxM-NU",
        "colab": {
          "base_uri": "https://localhost:8080/"
        },
        "outputId": "dc470390-5529-4a7b-bba4-bed4bca108d2"
      },
      "outputs": [
        {
          "output_type": "execute_result",
          "data": {
            "text/plain": [
              "['', 'và', 'phòng', 'tôi', 'không', 'rất', 'một', 'có', 'là', 'viên']"
            ]
          },
          "metadata": {},
          "execution_count": 135
        }
      ],
      "source": [
        "vocab_size = len(vocabulary)\n",
        "\n",
        "# truncated_vocabulary = [\n",
        "#     word for word, count in vocabulary.most_common()[:5000]\n",
        "# ]\n",
        "truncated_vocabulary = list_words_after_convert\n",
        "truncated_vocabulary[:10]"
      ]
    },
    {
      "cell_type": "code",
      "source": [
        "!pip install translators"
      ],
      "metadata": {
        "id": "Ms6tt9XKY7Ha",
        "colab": {
          "base_uri": "https://localhost:8080/"
        },
        "outputId": "f48f3192-17f8-4748-b365-1b43c337a0c2"
      },
      "execution_count": null,
      "outputs": [
        {
          "output_type": "stream",
          "name": "stdout",
          "text": [
            "Looking in indexes: https://pypi.org/simple, https://us-python.pkg.dev/colab-wheels/public/simple/\n",
            "Requirement already satisfied: translators in /usr/local/lib/python3.8/dist-packages (5.5.3)\n",
            "Requirement already satisfied: lxml>=4.9.1 in /usr/local/lib/python3.8/dist-packages (from translators) (4.9.1)\n",
            "Requirement already satisfied: PyExecJS>=1.5.1 in /usr/local/lib/python3.8/dist-packages (from translators) (1.5.1)\n",
            "Requirement already satisfied: cryptography>=38.0.1 in /usr/local/lib/python3.8/dist-packages (from translators) (38.0.4)\n",
            "Requirement already satisfied: pathos>=0.2.9 in /usr/local/lib/python3.8/dist-packages (from translators) (0.3.0)\n",
            "Requirement already satisfied: requests>=2.28.1 in /usr/local/lib/python3.8/dist-packages (from translators) (2.28.1)\n",
            "Requirement already satisfied: cffi>=1.12 in /usr/local/lib/python3.8/dist-packages (from cryptography>=38.0.1->translators) (1.15.1)\n",
            "Requirement already satisfied: pycparser in /usr/local/lib/python3.8/dist-packages (from cffi>=1.12->cryptography>=38.0.1->translators) (2.21)\n",
            "Requirement already satisfied: pox>=0.3.2 in /usr/local/lib/python3.8/dist-packages (from pathos>=0.2.9->translators) (0.3.2)\n",
            "Requirement already satisfied: dill>=0.3.6 in /usr/local/lib/python3.8/dist-packages (from pathos>=0.2.9->translators) (0.3.6)\n",
            "Requirement already satisfied: ppft>=1.7.6.6 in /usr/local/lib/python3.8/dist-packages (from pathos>=0.2.9->translators) (1.7.6.6)\n",
            "Requirement already satisfied: multiprocess>=0.70.14 in /usr/local/lib/python3.8/dist-packages (from pathos>=0.2.9->translators) (0.70.14)\n",
            "Requirement already satisfied: six>=1.10.0 in /usr/local/lib/python3.8/dist-packages (from PyExecJS>=1.5.1->translators) (1.15.0)\n",
            "Requirement already satisfied: certifi>=2017.4.17 in /usr/local/lib/python3.8/dist-packages (from requests>=2.28.1->translators) (2022.9.24)\n",
            "Requirement already satisfied: charset-normalizer<3,>=2 in /usr/local/lib/python3.8/dist-packages (from requests>=2.28.1->translators) (2.1.1)\n",
            "Requirement already satisfied: urllib3<1.27,>=1.21.1 in /usr/local/lib/python3.8/dist-packages (from requests>=2.28.1->translators) (1.24.3)\n",
            "Requirement already satisfied: idna<4,>=2.5 in /usr/local/lib/python3.8/dist-packages (from requests>=2.28.1->translators) (2.10)\n"
          ]
        }
      ]
    },
    {
      "cell_type": "code",
      "source": [
        "import pickle\n",
        "import translators as ts\n",
        "import translators.server as tss\n",
        "\n",
        "with open('tokenizer.pickle', 'rb') as handle:\n",
        "  tokenizer = pickle.load(handle)\n",
        "\n",
        "def preprocess_detect(list_words, tokenizer, model):\n",
        "  result = [b'',]\n",
        "  for index, word in enumerate(list_words):\n",
        "    try:\n",
        "      word_np = np.array([word])\n",
        "      word_tokenizer = np.array(tokenizer.texts_to_sequences(word)).reshape(-1, 1)\n",
        "      word_pad = np.pad(word_tokenizer, ((0, 48 - len(word_tokenizer)), (0, 0)), constant_values=0).reshape(1, -1) # tokenizer to (47, 1)\n",
        "      y_pred = int(np.round(model.predict(word_pad)[0][0]))\n",
        "      if y_pred == 0: # if lang is vietnamese\n",
        "        word_bytes = convert_string_to_byte(word).numpy()\n",
        "        result.append(word_bytes)\n",
        "      else: # if lang is english\n",
        "        # Try trans at first\n",
        "        trans = tss.google(word, to_language='vi')\n",
        "\n",
        "        #if word is english continue: pass;\n",
        "        print(f'Before trans: {word}, after trans: {trans}')\n",
        "        word_np = np.array([trans])\n",
        "        word_tokenizer = np.array(tokenizer.texts_to_sequences(word_np)).reshape(-1, 1)\n",
        "        print('Word:', word_np, 'Word token:', word_tokenizer)\n",
        "        word_pad = np.pad(word_tokenizer, ((0, 48 - len(word_tokenizer)), (0, 0)), constant_values=0).reshape(1, -1) # tokenizer to (47, 1)\n",
        "        y_pred = int(np.round(model.predict(word_pad)[0][0]))\n",
        "        print('Y pred:', y_pred)\n",
        "        if y_pred == 0:\n",
        "          word_bytes = convert_string_to_byte(trans).numpy()\n",
        "          result.append(word_bytes)\n",
        "          print('Finish')\n",
        "        else:\n",
        "          print('Continue')\n",
        "          continue\n",
        "    except:\n",
        "      continue\n",
        "\n",
        "  return result\n",
        "\n",
        "model_recognition_lang = tf.keras.models.load_model('model_recognition_language.h5')\n",
        "preprocess_truncated_vocabulary = preprocess_detect(truncated_vocabulary[1:], tokenizer, model_recognition_lang)"
      ],
      "metadata": {
        "id": "nImdwrJALct-"
      },
      "execution_count": null,
      "outputs": []
    },
    {
      "cell_type": "code",
      "source": [
        "len(preprocess_truncated_vocabulary)"
      ],
      "metadata": {
        "colab": {
          "base_uri": "https://localhost:8080/"
        },
        "id": "ZZArEX7Ui_Wc",
        "outputId": "685e5acd-e26f-47d3-ca49-cc59ad0f8044"
      },
      "execution_count": null,
      "outputs": [
        {
          "output_type": "execute_result",
          "data": {
            "text/plain": [
              "3492"
            ]
          },
          "metadata": {},
          "execution_count": 138
        }
      ]
    },
    {
      "cell_type": "code",
      "source": [
        "for word in preprocess_truncated_vocabulary:\n",
        "  print(str(word, 'utf-8'))"
      ],
      "metadata": {
        "id": "gBEBm81CL5lZ"
      },
      "execution_count": null,
      "outputs": []
    },
    {
      "cell_type": "code",
      "source": [
        "# Demo\n",
        "input = 'jus'\n",
        "arr = tokenizer.texts_to_sequences(input)\n",
        "arr_pad = np.pad(arr, ((0, 48 - len(arr)), (0, 0)), constant_values=0).reshape(1, -1) # Top, bottom, left, right\n",
        "model_recognition_lang.predict(arr_pad)"
      ],
      "metadata": {
        "colab": {
          "base_uri": "https://localhost:8080/"
        },
        "id": "56zIAKjElAu3",
        "outputId": "9acedf38-c9d3-4f79-b6d5-1377501745d3"
      },
      "execution_count": null,
      "outputs": [
        {
          "output_type": "stream",
          "name": "stdout",
          "text": [
            "1/1 [==============================] - 0s 16ms/step\n"
          ]
        },
        {
          "output_type": "execute_result",
          "data": {
            "text/plain": [
              "array([[0.154498]], dtype=float32)"
            ]
          },
          "metadata": {},
          "execution_count": 52
        }
      ]
    },
    {
      "cell_type": "code",
      "source": [
        "preprocess_truncated_vocabulary = []\n",
        "\n",
        "with open('vocabulary.txt') as file:\n",
        "  for line in file:\n",
        "    preprocess_truncated_vocabulary.append(line.strip())\n",
        "\n",
        "preprocess_truncated_vocabulary[:10]"
      ],
      "metadata": {
        "colab": {
          "base_uri": "https://localhost:8080/"
        },
        "id": "pcxErpvrL-K-",
        "outputId": "65a8ad82-a607-457b-f8ba-86e7291c9e73"
      },
      "execution_count": null,
      "outputs": [
        {
          "output_type": "execute_result",
          "data": {
            "text/plain": [
              "['', 'và', 'phòng', 'tôi', 'không', 'rất', 'một', 'có', 'là', 'viên']"
            ]
          },
          "metadata": {},
          "execution_count": 9
        }
      ]
    },
    {
      "cell_type": "code",
      "source": [
        "truncated_vocabulary = list(set(preprocess_truncated_vocabulary)) # for tokenizer\n",
        "vocab_size = len(truncated_vocabulary)\n",
        "\n",
        "# truncated_vocabulary = all_words_vn.reshape(-1, ).tolist()\n",
        "# for index, word in enumerate(truncated_vocabulary):\n",
        "#   try:\n",
        "#     truncated_vocabulary[index] = bytes(word, 'utf-8')\n",
        "#     print('Word:', word, '- Bytes:', truncated_vocabulary[index])\n",
        "#   except:\n",
        "#     continue"
      ],
      "metadata": {
        "id": "1oSjqyvTy6Wb"
      },
      "execution_count": null,
      "outputs": []
    },
    {
      "cell_type": "code",
      "source": [
        "vocab_size"
      ],
      "metadata": {
        "colab": {
          "base_uri": "https://localhost:8080/"
        },
        "id": "H1smz3vATzhu",
        "outputId": "724d3312-7801-47cd-edc0-2a5b15a8fe94"
      },
      "execution_count": null,
      "outputs": [
        {
          "output_type": "execute_result",
          "data": {
            "text/plain": [
              "3260"
            ]
          },
          "metadata": {},
          "execution_count": 12
        }
      ]
    },
    {
      "cell_type": "code",
      "execution_count": null,
      "metadata": {
        "id": "1jYQ6AhzNAq_"
      },
      "outputs": [],
      "source": [
        "word_to_id = {word: index for index, word in enumerate(truncated_vocabulary)}"
      ]
    },
    {
      "cell_type": "code",
      "source": [
        "word_to_id"
      ],
      "metadata": {
        "id": "xVSIc8bGTuBd"
      },
      "execution_count": null,
      "outputs": []
    },
    {
      "cell_type": "code",
      "execution_count": null,
      "metadata": {
        "colab": {
          "base_uri": "https://localhost:8080/"
        },
        "id": "P7IIt7ViNZxe",
        "outputId": "c1115137-1496-43dd-801e-c679ae0c6579"
      },
      "outputs": [
        {
          "output_type": "stream",
          "name": "stdout",
          "text": [
            "35956\n",
            "17363\n",
            "19607\n",
            "35956\n"
          ]
        }
      ],
      "source": [
        "text = convert_string_to_byte('Phòng này nhỏ quáaa')\n",
        "\n",
        "for word in text.numpy().split():\n",
        "  print(word_to_id.get(word) or vocab_size)"
      ]
    },
    {
      "cell_type": "code",
      "source": [
        "truncated_vocabulary[:10]"
      ],
      "metadata": {
        "colab": {
          "base_uri": "https://localhost:8080/"
        },
        "id": "v2L_idzmT-br",
        "outputId": "67673d1e-c284-440c-f42a-49fd7dee829e"
      },
      "execution_count": null,
      "outputs": [
        {
          "output_type": "execute_result",
          "data": {
            "text/plain": [
              "[b'a',\n",
              " b'A',\n",
              " b'\\xc3\\xa0',\n",
              " b'\\xc3\\x80',\n",
              " b'\\xe1\\xba\\xa3',\n",
              " b'\\xc3\\xa1',\n",
              " b'\\xc3\\x81',\n",
              " b'\\xe1\\xba\\xa1',\n",
              " b'a \\xe1\\xba\\xa3',\n",
              " b'a ba l\\xc3\\xbd']"
            ]
          },
          "metadata": {},
          "execution_count": 54
        }
      ]
    },
    {
      "cell_type": "code",
      "source": [
        "for index, word in enumerate(17279y):\n",
        "  if type(word) != bytes:\n",
        "    print(index) # error (value is nan)"
      ],
      "metadata": {
        "colab": {
          "base_uri": "https://localhost:8080/"
        },
        "id": "0IoGYKkdUfqR",
        "outputId": "98837ad6-23fd-4b13-a447-fd75142b1a0e"
      },
      "execution_count": null,
      "outputs": [
        {
          "output_type": "stream",
          "name": "stdout",
          "text": [
            "17279\n"
          ]
        }
      ]
    },
    {
      "cell_type": "code",
      "source": [
        "del truncated_vocabulary[17279]"
      ],
      "metadata": {
        "id": "rppMOZajVhI2"
      },
      "execution_count": null,
      "outputs": []
    },
    {
      "cell_type": "code",
      "source": [
        "truncated_vocabulary.insert(0, b'')\n",
        "truncated_vocabulary[:5]"
      ],
      "metadata": {
        "colab": {
          "base_uri": "https://localhost:8080/"
        },
        "id": "G0Myl2TEWK2o",
        "outputId": "0e61d813-ff1e-4217-8982-3cae876d73f2"
      },
      "execution_count": null,
      "outputs": [
        {
          "output_type": "execute_result",
          "data": {
            "text/plain": [
              "[b'', b'a', b'A', b'\\xc3\\xa0', b'\\xc3\\x80']"
            ]
          },
          "metadata": {},
          "execution_count": 92
        }
      ]
    },
    {
      "cell_type": "code",
      "source": [
        "vocab_size = len(truncated_vocabulary)\n",
        "vocab_size"
      ],
      "metadata": {
        "colab": {
          "base_uri": "https://localhost:8080/"
        },
        "id": "uVmfopNTVyq7",
        "outputId": "88a8361c-3504-4013-aab2-fac8fbf0a772"
      },
      "execution_count": null,
      "outputs": [
        {
          "output_type": "execute_result",
          "data": {
            "text/plain": [
              "35956"
            ]
          },
          "metadata": {},
          "execution_count": 93
        }
      ]
    },
    {
      "cell_type": "code",
      "execution_count": null,
      "metadata": {
        "id": "LeAhmNYmREe0"
      },
      "outputs": [],
      "source": [
        "# Hoặc là dùng table lookup\n",
        "words = tf.constant(truncated_vocabulary)\n",
        "word_ids = tf.range(len(truncated_vocabulary), dtype=tf.int64)\n",
        "vocab_init = tf.lookup.KeyValueTensorInitializer(words, word_ids)\n",
        "num_oov_buckets = 2000\n",
        "table = tf.lookup.StaticVocabularyTable(vocab_init, num_oov_buckets)"
      ]
    },
    {
      "cell_type": "code",
      "execution_count": null,
      "metadata": {
        "colab": {
          "base_uri": "https://localhost:8080/"
        },
        "id": "6wUGJVN8RyrD",
        "outputId": "f966158e-2c81-4f29-db64-e9c7fba06400"
      },
      "outputs": [
        {
          "output_type": "execute_result",
          "data": {
            "text/plain": [
              "<tf.Tensor: shape=(1, 4), dtype=int64, numpy=array([[ 415,  456, 3082, 4757]])>"
            ]
          },
          "metadata": {},
          "execution_count": 12
        }
      ],
      "source": [
        "text = tf.strings.lower(convert_string_to_byte('Phòng này nhỏ quáaa')).numpy().split()\n",
        "text = tf.constant(text)\n",
        "text = tf.expand_dims(text, axis=0)\n",
        "\n",
        "table.lookup(text)"
      ]
    },
    {
      "cell_type": "code",
      "execution_count": null,
      "metadata": {
        "id": "5D3T3NN2aZuV"
      },
      "outputs": [],
      "source": [
        "def encode_words(X_batch, y_batch):\n",
        "  return table.lookup(X_batch), y_batch"
      ]
    },
    {
      "cell_type": "code",
      "execution_count": null,
      "metadata": {
        "id": "rQLstk6eS2L0"
      },
      "outputs": [],
      "source": [
        "batch_size = 32\n",
        "\n",
        "train_set = train_set.batch(batch_size).map(preprocess_text)\n",
        "train_set = train_set.map(encode_words).prefetch(1)"
      ]
    },
    {
      "cell_type": "code",
      "execution_count": null,
      "metadata": {
        "id": "E4DiZreIYmEb"
      },
      "outputs": [],
      "source": [
        "valid_set = valid_set.batch(batch_size).map(preprocess_text)\n",
        "valid_set = valid_set.map(encode_words).prefetch(1)\n",
        "\n",
        "test_set = test_set.batch(batch_size).map(preprocess_text)\n",
        "test_set = test_set.map(encode_words).prefetch(1)"
      ]
    },
    {
      "cell_type": "code",
      "execution_count": null,
      "metadata": {
        "id": "oD0HBk2ZY4p-",
        "colab": {
          "base_uri": "https://localhost:8080/"
        },
        "outputId": "7a4c4c71-cfa0-48cb-86e6-3e652399df9a"
      },
      "outputs": [
        {
          "output_type": "stream",
          "name": "stdout",
          "text": [
            "tf.Tensor(\n",
            "[[5247  858 2639 ...    0    0    0]\n",
            " [1539 2857 2806 ...    0    0    0]\n",
            " [1957 3198 1630 ...    0    0    0]\n",
            " ...\n",
            " [1422  561 1940 ...    0    0    0]\n",
            " [   4 1096  455 ...    0    0    0]\n",
            " [3280  268 1797 ...    0    0    0]], shape=(32, 53), dtype=int64)\n"
          ]
        }
      ],
      "source": [
        "for X_batch, y_batch in train_set.take(1):\n",
        "  print(X_batch)"
      ]
    },
    {
      "cell_type": "markdown",
      "metadata": {
        "id": "PGR29itFW3w1"
      },
      "source": [
        "## Training"
      ]
    },
    {
      "cell_type": "code",
      "execution_count": null,
      "metadata": {
        "id": "lojYvEV7cAPE"
      },
      "outputs": [],
      "source": [
        "embed_size = 128\n",
        "model = tf.keras.models.Sequential([\n",
        "    # Lớp Embedding sẽ biến ID của word đó thành một vector có chiều là embed_size, để cho đầu\n",
        "    # vào sẽ có chiều bằng nhau, và các vector đó có thể học dc trong khi training\n",
        "    tf.keras.layers.Embedding(vocab_size + num_oov_buckets, embed_size, \n",
        "                              mask_zero=True, input_shape=[None]),\n",
        "    tf.keras.layers.GRU(128, return_sequences=True, dropout=0.3),\n",
        "    tf.keras.layers.GRU(128, dropout=0.5),\n",
        "    tf.keras.layers.Dense(1, activation='sigmoid')\n",
        "])"
      ]
    },
    {
      "cell_type": "markdown",
      "source": [
        "- Different between dropout and recurrent dropout\n",
        "![image.png](data:image/png;base64,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)"
      ],
      "metadata": {
        "id": "R4ZET9S2pOtP"
      }
    },
    {
      "cell_type": "code",
      "source": [
        "# Power Scheduling\n",
        "\n",
        "def exponential_decay(lr0, s):\n",
        "  def exponential_decay_fn(epoch):\n",
        "    return lr0 * 0.1 ** (epoch / s)\n",
        "  return exponential_decay_fn\n",
        "\n",
        "exponential_defay_fn = exponential_decay(lr0=0.01, s=20)"
      ],
      "metadata": {
        "id": "Ngg7MOtHjw-q"
      },
      "execution_count": null,
      "outputs": []
    },
    {
      "cell_type": "code",
      "source": [
        "model = tf.keras.models.load_model('sentiment_analyst_reviews_vietnamese.h5')"
      ],
      "metadata": {
        "id": "d0pk5KGcGUmg"
      },
      "execution_count": null,
      "outputs": []
    },
    {
      "cell_type": "code",
      "execution_count": null,
      "metadata": {
        "id": "1mAGkJkaXSxp"
      },
      "outputs": [],
      "source": [
        "optimizer = tf.keras.optimizers.SGD(learning_rate=0.01, momentum=0.9, nesterov=True)\n",
        "lr_scheduler = tf.keras.callbacks.LearningRateScheduler(exponential_defay_fn)\n",
        "checkpoint_cb = tf.keras.callbacks.ModelCheckpoint('sentiment_analyst_reviews_vietnamese.h5', save_best_only=False)\n",
        "early_stopping_cb = tf.keras.callbacks.EarlyStopping(patience=10, restore_best_weights=True)\n",
        "model.compile(loss='binary_crossentropy', optimizer=optimizer, metrics=['accuracy'])"
      ]
    },
    {
      "cell_type": "code",
      "execution_count": null,
      "metadata": {
        "colab": {
          "base_uri": "https://localhost:8080/"
        },
        "id": "mY-YM5ZhesrC",
        "outputId": "b232bb45-4c89-4670-c35e-16899cde0376"
      },
      "outputs": [
        {
          "output_type": "stream",
          "name": "stdout",
          "text": [
            "Epoch 1/10\n",
            "1563/1563 [==============================] - 424s 267ms/step - loss: 0.1547 - accuracy: 0.9457 - val_loss: 0.1684 - val_accuracy: 0.9431\n",
            "Epoch 2/10\n",
            "1563/1563 [==============================] - 406s 260ms/step - loss: 0.1538 - accuracy: 0.9465 - val_loss: 0.1636 - val_accuracy: 0.9406\n",
            "Epoch 3/10\n",
            "1563/1563 [==============================] - 408s 261ms/step - loss: 0.1524 - accuracy: 0.9469 - val_loss: 0.1686 - val_accuracy: 0.9390\n",
            "Epoch 4/10\n",
            "1563/1563 [==============================] - 402s 257ms/step - loss: 0.1504 - accuracy: 0.9471 - val_loss: 0.1733 - val_accuracy: 0.9362\n",
            "Epoch 5/10\n",
            "1563/1563 [==============================] - 406s 260ms/step - loss: 0.1493 - accuracy: 0.9480 - val_loss: 0.1624 - val_accuracy: 0.9414\n",
            "Epoch 6/10\n",
            "1563/1563 [==============================] - 403s 258ms/step - loss: 0.1478 - accuracy: 0.9485 - val_loss: 0.1787 - val_accuracy: 0.9406\n",
            "Epoch 7/10\n",
            "1563/1563 [==============================] - 407s 260ms/step - loss: 0.1466 - accuracy: 0.9493 - val_loss: 0.1645 - val_accuracy: 0.9429\n",
            "Epoch 8/10\n",
            "1563/1563 [==============================] - 404s 259ms/step - loss: 0.1459 - accuracy: 0.9496 - val_loss: 0.1604 - val_accuracy: 0.9425\n",
            "Epoch 9/10\n",
            "1563/1563 [==============================] - 404s 259ms/step - loss: 0.1448 - accuracy: 0.9499 - val_loss: 0.1621 - val_accuracy: 0.9431\n",
            "Epoch 10/10\n",
            "1563/1563 [==============================] - 407s 260ms/step - loss: 0.1434 - accuracy: 0.9500 - val_loss: 0.1643 - val_accuracy: 0.9418\n"
          ]
        }
      ],
      "source": [
        "history = model.fit(train_set, epochs=10, validation_data=valid_set, \n",
        "                    callbacks=[checkpoint_cb])"
      ]
    },
    {
      "cell_type": "code",
      "source": [
        "from matplotlib import pyplot as plt\n",
        "\n",
        "plt.plot(history.history['accuracy'])\n",
        "plt.plot(history.history['val_accuracy'])\n",
        "plt.title('model accuracy')\n",
        "plt.ylabel('accuracy')\n",
        "plt.xlabel('epoch')\n",
        "plt.legend(['train', 'val'], loc='upper left')\n",
        "plt.show()"
      ],
      "metadata": {
        "id": "3mkpSt_V6BeU",
        "colab": {
          "base_uri": "https://localhost:8080/",
          "height": 295
        },
        "outputId": "f1f94ecf-7e50-4cbe-a2d6-dd6ce1c56ded"
      },
      "execution_count": null,
      "outputs": [
        {
          "output_type": "display_data",
          "data": {
            "text/plain": [
              "<Figure size 432x288 with 1 Axes>"
            ],
            "image/png": "[encoded data removed]"
          },
          "metadata": {
            "needs_background": "light"
          }
        }
      ]
    },
    {
      "cell_type": "code",
      "source": [
        "plt.plot(history.history['loss'])\n",
        "plt.plot(history.history['val_loss'])\n",
        "plt.title('model loss')\n",
        "plt.ylabel('loss')\n",
        "plt.xlabel('epoch')\n",
        "plt.legend(['train', 'val'], loc='upper left')\n",
        "plt.show()"
      ],
      "metadata": {
        "id": "YlEni8-76KOu",
        "colab": {
          "base_uri": "https://localhost:8080/",
          "height": 295
        },
        "outputId": "70b09527-05f5-4789-ad79-d116fd298d8e"
      },
      "execution_count": null,
      "outputs": [
        {
          "output_type": "display_data",
          "data": {
            "text/plain": [
              "<Figure size 432x288 with 1 Axes>"
            ],
            "image/png": "[encoded data removed]"
          },
          "metadata": {
            "needs_background": "light"
          }
        }
      ]
    },
    {
      "cell_type": "code",
      "source": [
        "model.evaluate(test_set)"
      ],
      "metadata": {
        "id": "7F-csSSuTKTg",
        "colab": {
          "base_uri": "https://localhost:8080/"
        },
        "outputId": "65452d7c-2bc4-4477-9c0f-b8bba0ea2306"
      },
      "execution_count": null,
      "outputs": [
        {
          "output_type": "stream",
          "name": "stdout",
          "text": [
            "560/560 [==============================] - 12s 22ms/step - loss: 0.1641 - accuracy: 0.9404\n"
          ]
        },
        {
          "output_type": "execute_result",
          "data": {
            "text/plain": [
              "[0.16412246227264404, 0.9404143691062927]"
            ]
          },
          "metadata": {},
          "execution_count": 32
        }
      ]
    },
    {
      "cell_type": "code",
      "source": [
        "model.save('sentiment_analyst_reviews_vietnamese.h5')"
      ],
      "metadata": {
        "id": "LHQ7axF3T4b_"
      },
      "execution_count": null,
      "outputs": []
    },
    {
      "cell_type": "code",
      "source": [
        "from google.colab import files\n",
        "files.download('sentiment_analyst_reviews_vietnamese.h5') "
      ],
      "metadata": {
        "id": "nLDyg52o6VhI",
        "colab": {
          "base_uri": "https://localhost:8080/",
          "height": 17
        },
        "outputId": "def6dd15-4057-4475-8108-7259bfb00711"
      },
      "execution_count": null,
      "outputs": [
        {
          "output_type": "display_data",
          "data": {
            "text/plain": [
              "<IPython.core.display.Javascript object>"
            ],
            "application/javascript": [
              "\n",
              "    async function download(id, filename, size) {\n",
              "      if (!google.colab.kernel.accessAllowed) {\n",
              "        return;\n",
              "      }\n",
              "      const div = document.createElement('div');\n",
              "      const label = document.createElement('label');\n",
              "      label.textContent = `Downloading \"${filename}\": `;\n",
              "      div.appendChild(label);\n",
              "      const progress = document.createElement('progress');\n",
              "      progress.max = size;\n",
              "      div.appendChild(progress);\n",
              "      document.body.appendChild(div);\n",
              "\n",
              "      const buffers = [];\n",
              "      let downloaded = 0;\n",
              "\n",
              "      const channel = await google.colab.kernel.comms.open(id);\n",
              "      // Send a message to notify the kernel that we're ready.\n",
              "      channel.send({})\n",
              "\n",
              "      for await (const message of channel.messages) {\n",
              "        // Send a message to notify the kernel that we're ready.\n",
              "        channel.send({})\n",
              "        if (message.buffers) {\n",
              "          for (const buffer of message.buffers) {\n",
              "            buffers.push(buffer);\n",
              "            downloaded += buffer.byteLength;\n",
              "            progress.value = downloaded;\n",
              "          }\n",
              "        }\n",
              "      }\n",
              "      const blob = new Blob(buffers, {type: 'application/binary'});\n",
              "      const a = document.createElement('a');\n",
              "      a.href = window.URL.createObjectURL(blob);\n",
              "      a.download = filename;\n",
              "      div.appendChild(a);\n",
              "      a.click();\n",
              "      div.remove();\n",
              "    }\n",
              "  "
            ]
          },
          "metadata": {}
        },
        {
          "output_type": "display_data",
          "data": {
            "text/plain": [
              "<IPython.core.display.Javascript object>"
            ],
            "application/javascript": [
              "download(\"download_e951137f-bff0-4316-9dd7-f2eced7a498e\", \"sentiment_analyst_reviews_vietnamese.h5\", 7019440)"
            ]
          },
          "metadata": {}
        }
      ]
    },
    {
      "cell_type": "code",
      "source": [
        "preprocess_truncated_vocabulary[1]"
      ],
      "metadata": {
        "colab": {
          "base_uri": "https://localhost:8080/"
        },
        "id": "iPfpKc5e9-dv",
        "outputId": "1270e172-1d94-445e-d7ad-457babf5b6fb"
      },
      "execution_count": null,
      "outputs": [
        {
          "output_type": "execute_result",
          "data": {
            "text/plain": [
              "b'v\\xc3\\xa0'"
            ]
          },
          "metadata": {},
          "execution_count": 141
        }
      ]
    },
    {
      "cell_type": "code",
      "source": [
        "# This code if use tokenize\n",
        "f = open('vocabulary.txt', 'a')\n",
        "for word in preprocess_truncated_vocabulary:\n",
        "  f.write(str(word, 'utf-8') + '\\n')\n",
        "f.close()"
      ],
      "metadata": {
        "id": "a42m1n4Z7WxN"
      },
      "execution_count": null,
      "outputs": []
    },
    {
      "cell_type": "code",
      "execution_count": null,
      "metadata": {
        "id": "J7JbGU072EoC"
      },
      "outputs": [],
      "source": [
        "negative_review = 'mình check in nhận phỏng khoảng 5h chiều nhưng khi vào phòng thì sàn và dép vẫn còn ướt rèm chưa đủ rộng để che kính hết cửa kính nên giảm đi sự riêng tư.'\n",
        "positive_review = 'Sạch sẽ , trẻ trung , có thang máy di chuyển, gần bến xe liên tỉnh, phù hợp cho các bạn thuê xe đi , vì đi bộ ra Hồ Xuân Hương hay chợ thì k đi bộ được đâu nhé ạ .Lễ tân dễ thương'"
      ]
    },
    {
      "cell_type": "code",
      "execution_count": null,
      "metadata": {
        "id": "wn3E-FFuAnGW"
      },
      "outputs": [],
      "source": [
        "bytes_negative = convert_string_to_byte(negative_review).numpy().split()\n",
        "bytes_positive = convert_string_to_byte(positive_review).numpy().split()"
      ]
    },
    {
      "cell_type": "code",
      "execution_count": null,
      "metadata": {
        "id": "tmPmGUERBkZv"
      },
      "outputs": [],
      "source": [
        "bytes_negative "
      ]
    },
    {
      "cell_type": "code",
      "execution_count": null,
      "metadata": {
        "id": "4Wz_alj8Am5e"
      },
      "outputs": [],
      "source": [
        "neg = tf.constant(bytes_negative)\n",
        "pos = tf.constant(bytes_positive)\n",
        "\n",
        "neg = tf.expand_dims(neg, axis=0)\n",
        "pos = tf.expand_dims(pos, axis=0)\n",
        "\n",
        "neg_review = table.lookup(neg)\n",
        "pos_review = table.lookup(pos)"
      ]
    },
    {
      "cell_type": "code",
      "execution_count": null,
      "metadata": {
        "id": "h-1zxyItBhL2",
        "colab": {
          "base_uri": "https://localhost:8080/"
        },
        "outputId": "adda0efe-e90f-4247-8d20-44cd02f773c6"
      },
      "outputs": [
        {
          "output_type": "execute_result",
          "data": {
            "text/plain": [
              "<tf.Tensor: shape=(1, 35), dtype=int64, numpy=\n",
              "array([[ 424, 5286, 1210,  204, 8528,  337, 7127,  561,   34,   28,   44,\n",
              "           3,  740,  406,    1,  985,  329,  371,  720,  784,  578,  192,\n",
              "         222,   31, 1357,  669,  425,   89,  669,  131,  724,   55,   40,\n",
              "         473, 9339]])>"
            ]
          },
          "metadata": {},
          "execution_count": 167
        }
      ],
      "source": [
        "neg_review"
      ]
    },
    {
      "cell_type": "code",
      "execution_count": null,
      "metadata": {
        "id": "KSDjsJ74FOJD",
        "colab": {
          "base_uri": "https://localhost:8080/"
        },
        "outputId": "04902677-72e3-45fe-cb10-762d54d2eba6"
      },
      "outputs": [
        {
          "output_type": "execute_result",
          "data": {
            "text/plain": [
              "array([ 424, 5286, 1210,  204, 8528,  337, 7127,  561,   34,   28,   44,\n",
              "          3,  740,  406,    1,  985,  329,  371,  720,  784,  578,  192,\n",
              "        222,   31, 1357,  669,  425,   89,  669,  131,  724,   55,   40,\n",
              "        473, 9339])"
            ]
          },
          "metadata": {},
          "execution_count": 168
        }
      ],
      "source": [
        "neg_review[0].numpy()"
      ]
    },
    {
      "cell_type": "code",
      "execution_count": null,
      "metadata": {
        "id": "Kfr1cbaJEPix",
        "colab": {
          "base_uri": "https://localhost:8080/"
        },
        "outputId": "65a2ff15-8919-437c-aa86-563495155a3d"
      },
      "outputs": [
        {
          "output_type": "stream",
          "name": "stdout",
          "text": [
            "mình mình check in nhận phỏng khoảng 5h chiều nhưng khi vào phòng thì sàn và dép vẫn còn ướt rèm chưa đủ rộng để che kính hết cửa kính nên giảm đi sự riêng tư. "
          ]
        }
      ],
      "source": [
        "for word_index in neg_review[0].numpy():\n",
        "  if word_index > num_oov_buckets:\n",
        "    for word in neg.numpy()[0]:\n",
        "      print(convert_byte_to_string(word), end = ' ')\n",
        "    break\n",
        "  else:\n",
        "    print(convert_byte_to_string(truncated_vocabulary[word_index]) or num_oov_buckets, end=' ')"
      ]
    },
    {
      "cell_type": "code",
      "execution_count": null,
      "metadata": {
        "id": "8txmtSUcBin4",
        "colab": {
          "base_uri": "https://localhost:8080/"
        },
        "outputId": "f043dde2-04e5-4dfc-e924-e00ffecd1745"
      },
      "outputs": [
        {
          "output_type": "execute_result",
          "data": {
            "text/plain": [
              "<tf.Tensor: shape=(1, 46), dtype=int64, numpy=\n",
              "array([[1063,   33, 8796,  412,  180, 8796,    7,  247,  148,  446, 2725,\n",
              "          71, 3246,  153,  413, 7582,  525,  250,   17,   26,   62, 1814,\n",
              "         153,   55, 8796,   85,   55,   80,  108, 1353, 9149, 3933,  902,\n",
              "        1796,  740, 1201,   55,   80,   21,  913, 6054, 5802, 5385,  103,\n",
              "         143,  851]])>"
            ]
          },
          "metadata": {},
          "execution_count": 170
        }
      ],
      "source": [
        "pos_review"
      ]
    },
    {
      "cell_type": "code",
      "execution_count": null,
      "metadata": {
        "id": "pk76LqLyC2V3",
        "colab": {
          "base_uri": "https://localhost:8080/"
        },
        "outputId": "150d29bf-9921-4f67-b0a6-9e00fbdf2a42"
      },
      "outputs": [
        {
          "output_type": "stream",
          "name": "stdout",
          "text": [
            "Sạch sẽ Sạch sẽ , trẻ trung , có thang máy di chuyển, gần bến xe liên tỉnh, phù hợp cho các bạn thuê xe đi , vì đi bộ ra Hồ Xuân Hương hay chợ thì k đi bộ được đâu nhé ạ .Lễ tân dễ thương "
          ]
        }
      ],
      "source": [
        "for word_index in pos_review[0].numpy():\n",
        "  if word_index > num_oov_buckets:\n",
        "    for word in pos.numpy()[0]:\n",
        "      print(convert_byte_to_string(word), end = ' ')\n",
        "    break\n",
        "  else:\n",
        "    print(convert_byte_to_string(truncated_vocabulary[word_index]) or num_oov_buckets, end=' ')"
      ]
    },
    {
      "cell_type": "code",
      "execution_count": null,
      "metadata": {
        "id": "6S2_WUtMEHIO",
        "colab": {
          "base_uri": "https://localhost:8080/"
        },
        "outputId": "1d0de729-9ed2-425c-f1e3-949c23965040"
      },
      "outputs": [
        {
          "output_type": "stream",
          "name": "stdout",
          "text": [
            "1/1 [==============================] - 0s 22ms/step\n",
            "1/1 [==============================] - 0s 19ms/step\n"
          ]
        }
      ],
      "source": [
        "y_pred_pos = model.predict(pos_review)\n",
        "y_pred_neg = model.predict(neg_review)"
      ]
    },
    {
      "cell_type": "code",
      "execution_count": null,
      "metadata": {
        "id": "dumk6gL-Eq8D",
        "colab": {
          "base_uri": "https://localhost:8080/"
        },
        "outputId": "655e09f6-97ba-47f5-e7d2-b684996cd5b7"
      },
      "outputs": [
        {
          "output_type": "execute_result",
          "data": {
            "text/plain": [
              "array([[0.92101175]], dtype=float32)"
            ]
          },
          "metadata": {},
          "execution_count": 173
        }
      ],
      "source": [
        "y_pred_pos"
      ]
    },
    {
      "cell_type": "code",
      "execution_count": null,
      "metadata": {
        "id": "RP5UxIUVE0I7",
        "colab": {
          "base_uri": "https://localhost:8080/"
        },
        "outputId": "e7e555e7-b24e-4188-b1ec-0ed4dd42d992"
      },
      "outputs": [
        {
          "output_type": "execute_result",
          "data": {
            "text/plain": [
              "array([[0.02569689]], dtype=float32)"
            ]
          },
          "metadata": {},
          "execution_count": 174
        }
      ],
      "source": [
        "y_pred_neg"
      ]
    },
    {
      "cell_type": "code",
      "source": [],
      "metadata": {
        "id": "H_7CxHcSTZ30"
      },
      "execution_count": null,
      "outputs": []
    }
  ]
}